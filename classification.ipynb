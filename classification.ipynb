{
 "cells": [
  {
   "cell_type": "markdown",
   "metadata": {},
   "source": [
    "# UAS AI Lanjut\n",
    "\n",
    "- Nama: Mohamad Doddy Sujatmiko\n",
    "- NIM: 21.11.4344"
   ]
  },
  {
   "cell_type": "markdown",
   "metadata": {},
   "source": [
    "## Load Dataset"
   ]
  },
  {
   "cell_type": "code",
   "execution_count": 1,
   "metadata": {},
   "outputs": [],
   "source": [
    "import pandas as pd\n",
    "\n",
    "df = pd.read_csv('./mental-health-corpus.csv')\n",
    "df_positives = df[df['label'] == 1].head(12000)\n",
    "df_negatives = df[df['label'] == 0].head(12000)\n",
    "df = pd.concat([df_positives, df_negatives], ignore_index=True)"
   ]
  },
  {
   "cell_type": "markdown",
   "metadata": {},
   "source": [
    "## EDA"
   ]
  },
  {
   "cell_type": "code",
   "execution_count": 2,
   "metadata": {},
   "outputs": [
    {
     "name": "stdout",
     "output_type": "stream",
     "text": [
      "<class 'pandas.core.frame.DataFrame'>\n",
      "RangeIndex: 24000 entries, 0 to 23999\n",
      "Data columns (total 2 columns):\n",
      " #   Column  Non-Null Count  Dtype \n",
      "---  ------  --------------  ----- \n",
      " 0   text    24000 non-null  object\n",
      " 1   label   24000 non-null  int64 \n",
      "dtypes: int64(1), object(1)\n",
      "memory usage: 375.1+ KB\n"
     ]
    }
   ],
   "source": [
    "df.info()"
   ]
  },
  {
   "cell_type": "code",
   "execution_count": 3,
   "metadata": {},
   "outputs": [
    {
     "data": {
      "text/html": [
       "<div>\n",
       "<style scoped>\n",
       "    .dataframe tbody tr th:only-of-type {\n",
       "        vertical-align: middle;\n",
       "    }\n",
       "\n",
       "    .dataframe tbody tr th {\n",
       "        vertical-align: top;\n",
       "    }\n",
       "\n",
       "    .dataframe thead th {\n",
       "        text-align: right;\n",
       "    }\n",
       "</style>\n",
       "<table border=\"1\" class=\"dataframe\">\n",
       "  <thead>\n",
       "    <tr style=\"text-align: right;\">\n",
       "      <th></th>\n",
       "      <th>text</th>\n",
       "      <th>label</th>\n",
       "    </tr>\n",
       "  </thead>\n",
       "  <tbody>\n",
       "    <tr>\n",
       "      <th>0</th>\n",
       "      <td>nothing look forward lifei dont many reasons k...</td>\n",
       "      <td>1</td>\n",
       "    </tr>\n",
       "    <tr>\n",
       "      <th>1</th>\n",
       "      <td>im done trying feel betterthe reason im still ...</td>\n",
       "      <td>1</td>\n",
       "    </tr>\n",
       "    <tr>\n",
       "      <th>2</th>\n",
       "      <td>worried  year old girl subject domestic physic...</td>\n",
       "      <td>1</td>\n",
       "    </tr>\n",
       "    <tr>\n",
       "      <th>3</th>\n",
       "      <td>hey rredflag sure right place post this goes  ...</td>\n",
       "      <td>1</td>\n",
       "    </tr>\n",
       "    <tr>\n",
       "      <th>4</th>\n",
       "      <td>deserve liveif died right noone would carei re...</td>\n",
       "      <td>1</td>\n",
       "    </tr>\n",
       "  </tbody>\n",
       "</table>\n",
       "</div>"
      ],
      "text/plain": [
       "                                                text  label\n",
       "0  nothing look forward lifei dont many reasons k...      1\n",
       "1  im done trying feel betterthe reason im still ...      1\n",
       "2  worried  year old girl subject domestic physic...      1\n",
       "3  hey rredflag sure right place post this goes  ...      1\n",
       "4  deserve liveif died right noone would carei re...      1"
      ]
     },
     "execution_count": 3,
     "metadata": {},
     "output_type": "execute_result"
    }
   ],
   "source": [
    "df.head()"
   ]
  },
  {
   "cell_type": "code",
   "execution_count": 4,
   "metadata": {},
   "outputs": [
    {
     "data": {
      "image/png": "[encoded data removed]",
      "text/plain": [
       "<Figure size 800x600 with 1 Axes>"
      ]
     },
     "metadata": {},
     "output_type": "display_data"
    }
   ],
   "source": [
    "import matplotlib.pyplot as plt\n",
    "\n",
    "# Prepare data for pie chart\n",
    "labels = ['Has mental health issue', 'Doesn\\'t have mental health issue']\n",
    "sizes = [df[df['label'] == 1]['label'].count(), df[df['label'] == 0]['label'].count()]\n",
    "colors = ['#ff9999', '#66b3ff']\n",
    "\n",
    "# Plot pie chart\n",
    "plt.figure(figsize=(8, 6))\n",
    "plt.pie(sizes, labels=labels, autopct='%1.0f%%', colors=colors)\n",
    "plt.title('Poison vs Non-poison')\n",
    "\n",
    "# Display the pie chart\n",
    "plt.show()"
   ]
  },
  {
   "cell_type": "markdown",
   "metadata": {},
   "source": [
    "## Preprocessing"
   ]
  },
  {
   "cell_type": "markdown",
   "metadata": {},
   "source": [
    "### Mengubah kata - kata yang biasanya disingkat"
   ]
  },
  {
   "cell_type": "code",
   "execution_count": 5,
   "metadata": {},
   "outputs": [],
   "source": [
    "patterns = {\n",
    "      r\"\\bim\\b\": \"i am\",\n",
    "      r\"\\byoure\\b\": \"you are\",\n",
    "      r\"\\bhes\\b\": \"he is\",\n",
    "      r\"\\bshes\\b\": \"she is\",\n",
    "      r\"\\bwere\\b\": \"we are\",\n",
    "      r\"\\btheyre\\b\": \"they are\",\n",
    "      r\"\\bive\\b\": \"i have\",\n",
    "      r\"\\byouve\\b\": \"you have\",\n",
    "      r\"\\bweve\\b\": \"we have\",\n",
    "      r\"\\btheyve\\b\": \"they have\",\n",
    "      r\"\\bwasnt\\b\": \"was not\",\n",
    "      r\"\\bwont\\b\": \"will not\",\n",
    "      r\"\\bcant\\b\": \"cannot\",\n",
    "      r\"\\bdont\\b\": \"do not\",\n",
    "      r\"\\bdoesnt\\b\": \"does not\",\n",
    "      r\"\\bdidnt\\b\": \"did not\",\n",
    "      r\"\\bhavent\\b\": \"have not\",\n",
    "      r\"\\bhasnt\\b\": \"has not\",\n",
    "      r\"\\bhadnt\\b\": \"had not\",\n",
    "      r\"\\barent\\b\": \"are not\",\n",
    "      r\"\\bwerent\\b\": \"were not\",\n",
    "      r\"\\bisnt\\b\": \"is not\",\n",
    "      r\"\\byoull\\b\": \"you will\",\n",
    "      r\"\\bwell\\b\": \"we will\",\n",
    "      r\"\\btheyll\\b\": \"they will\",\n",
    "      r\"\\bill\\b\": \"i will\",\n",
    "      r\"\\bhell\\b\": \"he will\",\n",
    "      r\"\\bshell\\b\": \"she will\",\n",
    "      r\"\\bitll\\b\": \"it will\",\n",
    "      r\"\\bshed\\b\": \"she would\",\n",
    "      r\"\\bhed\\b\": \"he would\",\n",
    "      r\"\\bid\\b\": \"i would\",\n",
    "      r\"\\byoud\\b\": \"you would\",\n",
    "      r\"\\bwed\\b\": \"we would\",\n",
    "      r\"\\btheyd\\b\": \"they would\",\n",
    "      r\"\\bcouldve\\b\": \"could have\",\n",
    "      r\"\\bshouldve\\b\": \"should have\",\n",
    "      r\"\\bwouldve\\b\": \"would have\",\n",
    "      r\"\\bwhos\\b\": \"who is\",\n",
    "      r\"\\bwhats\\b\": \"what is\",\n",
    "      r\"\\bwheres\\b\": \"where is\",\n",
    "      r\"\\bwhens\\b\": \"when is\",\n",
    "      r\"\\bwhys\\b\": \"why is\",\n",
    "      r\"\\bhows\\b\": \"how is\",\n",
    "      r\"\\bwhod\\b\": \"who would\",\n",
    "      r\"\\bwhatd\\b\": \"what would\",\n",
    "      r\"\\bwhered\\b\": \"where would\",\n",
    "      r\"\\bwhend\\b\": \"when would\",\n",
    "      r\"\\bwhyd\\b\": \"why would\",\n",
    "      r\"\\bhowd\\b\": \"how would\",\n",
    "      r\"\\bwholl\\b\": \"who will\",\n",
    "      r\"\\bwhatll\\b\": \"what will\",\n",
    "      r\"\\bwherell\\b\": \"where will\",\n",
    "      r\"\\bwhenll\\b\": \"when will\",\n",
    "      r\"\\bwhyll\\b\": \"why will\",\n",
    "      r\"\\bhowll\\b\": \"how will\",\n",
    "      r\"\\bwhore\\b\": \"who are\",\n",
    "      r\"\\bwhatre\\b\": \"what are\",\n",
    "      r\"\\bwherere\\b\": \"where are\",\n",
    "      r\"\\bwhenre\\b\": \"when are\",\n",
    "      r\"\\bwhyre\\b\": \"why are\",\n",
    "      r\"\\bhowre\\b\": \"how are\",\n",
    "      r\"\\bthats\\b\": \"that is\",\n",
    "      r\"\\bthiss\\b\": \"this is\",\n",
    "      r\"\\btheres\\b\": \"there is\",\n",
    "      r\"\\bheres\\b\": \"here is\",\n",
    "      r\"\\bits\\b\": \"it is\",\n",
    "      r\"\\bwhove\\b\": \"who have\",\n",
    "      r\"\\bwhatve\\b\": \"what have\",\n",
    "      r\"\\bwhereve\\b\": \"where have\",\n",
    "      r\"\\bwhenve\\b\": \"when have\",\n",
    "      r\"\\bwhyve\\b\": \"why have\",\n",
    "      r\"\\bhowve\\b\": \"how have\",\n",
    "      r\"\\bimma\\b\": \"i am going to\",\n",
    "      r\"\\bgonna\\b\": \"going to\",\n",
    "      r\"\\bgotta\\b\": \"got to\",\n",
    "      r\"\\bwanna\\b\": \"want to\",\n",
    "      r\"\\bhafta\\b\": \"have to\",\n",
    "      r\"\\bkinda\\b\": \"kind of\",\n",
    "      r\"\\bsorta\\b\": \"sort of\",\n",
    "      r\"\\blemme\\b\": \"let me\",\n",
    "      r\"\\boutta\\b\": \"out of\",\n",
    "      r\"\\bgotcha\\b\": \"got you\",\n",
    "    }\n",
    "\n",
    "df['text'] = df['text'].replace(patterns, regex=True)"
   ]
  },
  {
   "cell_type": "markdown",
   "metadata": {},
   "source": [
    "### Tokenisasi"
   ]
  },
  {
   "cell_type": "code",
   "execution_count": 6,
   "metadata": {},
   "outputs": [
    {
     "name": "stderr",
     "output_type": "stream",
     "text": [
      "[nltk_data] Downloading package punkt to\n",
      "[nltk_data]     C:\\Users\\doddy-s\\AppData\\Roaming\\nltk_data...\n",
      "[nltk_data]   Package punkt is already up-to-date!\n",
      "[nltk_data] Downloading package stopwords to\n",
      "[nltk_data]     C:\\Users\\doddy-s\\AppData\\Roaming\\nltk_data...\n",
      "[nltk_data]   Package stopwords is already up-to-date!\n"
     ]
    },
    {
     "data": {
      "text/plain": [
       "True"
      ]
     },
     "execution_count": 6,
     "metadata": {},
     "output_type": "execute_result"
    }
   ],
   "source": [
    "import nltk\n",
    "nltk.download('punkt')\n",
    "nltk.download('stopwords')"
   ]
  },
  {
   "cell_type": "code",
   "execution_count": 7,
   "metadata": {},
   "outputs": [],
   "source": [
    "from nltk.tokenize import word_tokenize\n",
    "\n",
    "df['text'] = df['text'].apply(lambda x: word_tokenize(x))"
   ]
  },
  {
   "cell_type": "code",
   "execution_count": 8,
   "metadata": {},
   "outputs": [
    {
     "data": {
      "text/html": [
       "<div>\n",
       "<style scoped>\n",
       "    .dataframe tbody tr th:only-of-type {\n",
       "        vertical-align: middle;\n",
       "    }\n",
       "\n",
       "    .dataframe tbody tr th {\n",
       "        vertical-align: top;\n",
       "    }\n",
       "\n",
       "    .dataframe thead th {\n",
       "        text-align: right;\n",
       "    }\n",
       "</style>\n",
       "<table border=\"1\" class=\"dataframe\">\n",
       "  <thead>\n",
       "    <tr style=\"text-align: right;\">\n",
       "      <th></th>\n",
       "      <th>text</th>\n",
       "      <th>label</th>\n",
       "    </tr>\n",
       "  </thead>\n",
       "  <tbody>\n",
       "    <tr>\n",
       "      <th>0</th>\n",
       "      <td>[nothing, look, forward, lifei, do, not, many,...</td>\n",
       "      <td>1</td>\n",
       "    </tr>\n",
       "    <tr>\n",
       "      <th>1</th>\n",
       "      <td>[i, am, done, trying, feel, betterthe, reason,...</td>\n",
       "      <td>1</td>\n",
       "    </tr>\n",
       "    <tr>\n",
       "      <th>2</th>\n",
       "      <td>[worried, year, old, girl, subject, domestic, ...</td>\n",
       "      <td>1</td>\n",
       "    </tr>\n",
       "    <tr>\n",
       "      <th>3</th>\n",
       "      <td>[hey, rredflag, sure, right, place, post, this...</td>\n",
       "      <td>1</td>\n",
       "    </tr>\n",
       "    <tr>\n",
       "      <th>4</th>\n",
       "      <td>[deserve, liveif, died, right, noone, would, c...</td>\n",
       "      <td>1</td>\n",
       "    </tr>\n",
       "  </tbody>\n",
       "</table>\n",
       "</div>"
      ],
      "text/plain": [
       "                                                text  label\n",
       "0  [nothing, look, forward, lifei, do, not, many,...      1\n",
       "1  [i, am, done, trying, feel, betterthe, reason,...      1\n",
       "2  [worried, year, old, girl, subject, domestic, ...      1\n",
       "3  [hey, rredflag, sure, right, place, post, this...      1\n",
       "4  [deserve, liveif, died, right, noone, would, c...      1"
      ]
     },
     "execution_count": 8,
     "metadata": {},
     "output_type": "execute_result"
    }
   ],
   "source": [
    "df.head()"
   ]
  },
  {
   "cell_type": "markdown",
   "metadata": {},
   "source": [
    "### Menghapus Stopword"
   ]
  },
  {
   "cell_type": "code",
   "execution_count": 9,
   "metadata": {},
   "outputs": [],
   "source": [
    "from nltk.corpus import stopwords\n",
    "\n",
    "stop_words = set(stopwords.words('english'))\n",
    "df['text'] = df['text'].apply(lambda x: [word for word in x if word.lower() not in stop_words])"
   ]
  },
  {
   "cell_type": "code",
   "execution_count": 10,
   "metadata": {},
   "outputs": [
    {
     "data": {
      "text/html": [
       "<div>\n",
       "<style scoped>\n",
       "    .dataframe tbody tr th:only-of-type {\n",
       "        vertical-align: middle;\n",
       "    }\n",
       "\n",
       "    .dataframe tbody tr th {\n",
       "        vertical-align: top;\n",
       "    }\n",
       "\n",
       "    .dataframe thead th {\n",
       "        text-align: right;\n",
       "    }\n",
       "</style>\n",
       "<table border=\"1\" class=\"dataframe\">\n",
       "  <thead>\n",
       "    <tr style=\"text-align: right;\">\n",
       "      <th></th>\n",
       "      <th>text</th>\n",
       "      <th>label</th>\n",
       "    </tr>\n",
       "  </thead>\n",
       "  <tbody>\n",
       "    <tr>\n",
       "      <th>0</th>\n",
       "      <td>[nothing, look, forward, lifei, many, reasons,...</td>\n",
       "      <td>1</td>\n",
       "    </tr>\n",
       "    <tr>\n",
       "      <th>1</th>\n",
       "      <td>[done, trying, feel, betterthe, reason, still,...</td>\n",
       "      <td>1</td>\n",
       "    </tr>\n",
       "    <tr>\n",
       "      <th>2</th>\n",
       "      <td>[worried, year, old, girl, subject, domestic, ...</td>\n",
       "      <td>1</td>\n",
       "    </tr>\n",
       "    <tr>\n",
       "      <th>3</th>\n",
       "      <td>[hey, rredflag, sure, right, place, post, goes...</td>\n",
       "      <td>1</td>\n",
       "    </tr>\n",
       "    <tr>\n",
       "      <th>4</th>\n",
       "      <td>[deserve, liveif, died, right, noone, would, c...</td>\n",
       "      <td>1</td>\n",
       "    </tr>\n",
       "  </tbody>\n",
       "</table>\n",
       "</div>"
      ],
      "text/plain": [
       "                                                text  label\n",
       "0  [nothing, look, forward, lifei, many, reasons,...      1\n",
       "1  [done, trying, feel, betterthe, reason, still,...      1\n",
       "2  [worried, year, old, girl, subject, domestic, ...      1\n",
       "3  [hey, rredflag, sure, right, place, post, goes...      1\n",
       "4  [deserve, liveif, died, right, noone, would, c...      1"
      ]
     },
     "execution_count": 10,
     "metadata": {},
     "output_type": "execute_result"
    }
   ],
   "source": [
    "df.head()"
   ]
  },
  {
   "cell_type": "markdown",
   "metadata": {},
   "source": [
    "### Mencari banyaknya kata yang ada pada dataset"
   ]
  },
  {
   "cell_type": "code",
   "execution_count": 11,
   "metadata": {},
   "outputs": [],
   "source": [
    "words_array = []\n",
    "\n",
    "for words in df['text'].values:\n",
    "    words_array += words"
   ]
  },
  {
   "cell_type": "code",
   "execution_count": 12,
   "metadata": {},
   "outputs": [
    {
     "data": {
      "text/plain": [
       "66143"
      ]
     },
     "execution_count": 12,
     "metadata": {},
     "output_type": "execute_result"
    }
   ],
   "source": [
    "longest_text = len(set(words_array))\n",
    "longest_text"
   ]
  },
  {
   "cell_type": "markdown",
   "metadata": {},
   "source": [
    "### Mencari text terpanjang"
   ]
  },
  {
   "cell_type": "code",
   "execution_count": 14,
   "metadata": {},
   "outputs": [
    {
     "data": {
      "text/plain": [
       "2438"
      ]
     },
     "execution_count": 14,
     "metadata": {},
     "output_type": "execute_result"
    }
   ],
   "source": [
    "df['array_length'] = df['text'].apply(len)\n",
    "\n",
    "# Find the index of the row with the maximum array length\n",
    "max_index = df['array_length'].idxmax()\n",
    "\n",
    "# Get the longest array from the 'filtered_tokens' column\n",
    "longest_array = len(df.at[max_index, 'text'])\n",
    "\n",
    "longest_array"
   ]
  },
  {
   "cell_type": "markdown",
   "metadata": {},
   "source": [
    "### Menambahkan padding"
   ]
  },
  {
   "cell_type": "code",
   "execution_count": 15,
   "metadata": {},
   "outputs": [],
   "source": [
    "from tensorflow.keras.preprocessing.text import Tokenizer\n",
    "from tensorflow.keras.preprocessing.sequence import pad_sequences\n",
    "\n",
    "max_words = longest_text  # Adjust based on your dataset size\n",
    "max_len = longest_array # Adjust based on the average length of your text\n",
    "\n",
    "tokenizer = Tokenizer(num_words=max_words)\n",
    "tokenizer.fit_on_texts(df['text'])\n",
    "\n",
    "X = tokenizer.texts_to_sequences(df['text'])\n",
    "X = pad_sequences(X, maxlen=max_len)"
   ]
  },
  {
   "cell_type": "markdown",
   "metadata": {},
   "source": [
    "### Split data"
   ]
  },
  {
   "cell_type": "code",
   "execution_count": 18,
   "metadata": {},
   "outputs": [],
   "source": [
    "from sklearn.model_selection import train_test_split\n",
    "\n",
    "y = df['label'].values\n",
    "\n",
    "X_train, X_test, y_train, y_test = train_test_split(X, y, test_size=0.2, random_state=42)"
   ]
  },
  {
   "cell_type": "markdown",
   "metadata": {},
   "source": [
    "## Model dan Training"
   ]
  },
  {
   "cell_type": "code",
   "execution_count": 23,
   "metadata": {},
   "outputs": [
    {
     "name": "stdout",
     "output_type": "stream",
     "text": [
      "Epoch 1/5\n",
      "480/480 [==============================] - 46s 93ms/step - loss: 0.3212 - accuracy: 0.8576 - val_loss: 0.2155 - val_accuracy: 0.9135\n",
      "Epoch 2/5\n",
      "480/480 [==============================] - 45s 93ms/step - loss: 0.1445 - accuracy: 0.9470 - val_loss: 0.2190 - val_accuracy: 0.9086\n",
      "Epoch 3/5\n",
      "480/480 [==============================] - 46s 96ms/step - loss: 0.0767 - accuracy: 0.9753 - val_loss: 0.2456 - val_accuracy: 0.9086\n",
      "Epoch 4/5\n",
      "480/480 [==============================] - 47s 98ms/step - loss: 0.0335 - accuracy: 0.9909 - val_loss: 0.3128 - val_accuracy: 0.9029\n",
      "Epoch 5/5\n",
      "480/480 [==============================] - 46s 96ms/step - loss: 0.0125 - accuracy: 0.9972 - val_loss: 0.3598 - val_accuracy: 0.8987\n"
     ]
    }
   ],
   "source": [
    "import tensorflow as tf\n",
    "\n",
    "model = tf.keras.Sequential([\n",
    "    tf.keras.layers.Embedding(input_dim=max_words, output_dim=32, input_length=max_len),\n",
    "    tf.keras.layers.Flatten(),\n",
    "    tf.keras.layers.Dense(64, activation='relu'),\n",
    "    tf.keras.layers.Dense(1, activation='sigmoid')\n",
    "])\n",
    "\n",
    "model.compile(optimizer='adam', loss='binary_crossentropy', metrics=['accuracy'])\n",
    "\n",
    "# Train the model\n",
    "history = model.fit(X_train, y_train, epochs=5, batch_size=32, validation_split=0.2)"
   ]
  },
  {
   "cell_type": "code",
   "execution_count": 32,
   "metadata": {},
   "outputs": [
    {
     "data": {
      "image/png": "[encoded data removed]",
      "text/plain": [
       "<Figure size 640x480 with 1 Axes>"
      ]
     },
     "metadata": {},
     "output_type": "display_data"
    }
   ],
   "source": [
    "plt.style.use('fast')\n",
    "plt.plot(history.history['accuracy'])\n",
    "plt.plot(history.history['val_accuracy'])\n",
    "\n",
    "plt.title('Model Accuracy')\n",
    "plt.ylabel('Accuracy')\n",
    "plt.xlabel('Epoch')\n",
    "plt.legend(['Training', 'Validation'], loc = 'lower right')\n",
    "plt.show()"
   ]
  },
  {
   "cell_type": "markdown",
   "metadata": {},
   "source": [
    "## Validasi"
   ]
  },
  {
   "cell_type": "code",
   "execution_count": 20,
   "metadata": {},
   "outputs": [
    {
     "name": "stdout",
     "output_type": "stream",
     "text": [
      "150/150 [==============================] - 1s 8ms/step - loss: 0.2689 - accuracy: 0.9135\n",
      "Test Accuracy: 91.35%\n"
     ]
    }
   ],
   "source": [
    "# Evaluate the model\n",
    "loss, accuracy = model.evaluate(X_test, y_test)\n",
    "print(f'Test Accuracy: {accuracy * 100:.2f}%')"
   ]
  },
  {
   "cell_type": "code",
   "execution_count": 21,
   "metadata": {},
   "outputs": [
    {
     "name": "stdout",
     "output_type": "stream",
     "text": [
      "Model: \"sequential\"\n",
      "_________________________________________________________________\n",
      " Layer (type)                Output Shape              Param #   \n",
      "=================================================================\n",
      " embedding (Embedding)       (None, 2438, 32)          2116576   \n",
      "                                                                 \n",
      " flatten (Flatten)           (None, 78016)             0         \n",
      "                                                                 \n",
      " dense (Dense)               (None, 64)                4993088   \n",
      "                                                                 \n",
      " dense_1 (Dense)             (None, 1)                 65        \n",
      "                                                                 \n",
      "=================================================================\n",
      "Total params: 7109729 (27.12 MB)\n",
      "Trainable params: 7109729 (27.12 MB)\n",
      "Non-trainable params: 0 (0.00 Byte)\n",
      "_________________________________________________________________\n"
     ]
    }
   ],
   "source": [
    "model.summary()"
   ]
  },
  {
   "cell_type": "code",
   "execution_count": 35,
   "metadata": {},
   "outputs": [
    {
     "name": "stdout",
     "output_type": "stream",
     "text": [
      "1/1 [==============================] - 0s 31ms/step\n",
      "Input Text: 'i feel nothing worth in my life anymore'\n",
      "Predicted : mental health issue indicated, Confidence: 0.9142345190048218\n",
      "------------------------\n",
      "1/1 [==============================] - 0s 23ms/step\n",
      "Input Text: 'i just got a new job with high salary'\n",
      "Predicted : mental health issue indicated, Confidence: 0.6233750581741333\n",
      "------------------------\n",
      "1/1 [==============================] - 0s 36ms/step\n",
      "Input Text: 'i feel good after workout outdoor'\n",
      "Predicted : mental health issue not indicated, Confidence: 0.005263080820441246\n",
      "------------------------\n",
      "Exiting the prediction loop.\n"
     ]
    }
   ],
   "source": [
    "import numpy as np\n",
    "\n",
    "def predict_label_input(model, tokenizer, max_len):\n",
    "    while True:\n",
    "        # Get input text from the user\n",
    "        input_text = input(\"Enter the text you want to classify (type 'exit' to stop): \")\n",
    "\n",
    "        # Check if the user wants to exit\n",
    "        if input_text.lower() == 'exit':\n",
    "            print(\"Exiting the prediction loop.\")\n",
    "            break\n",
    "\n",
    "        # Preprocess the input text\n",
    "        sequence = tokenizer.texts_to_sequences([input_text])\n",
    "        padded_sequence = pad_sequences(sequence, maxlen=max_len)\n",
    "\n",
    "        # Make the prediction\n",
    "        prediction = model.predict(padded_sequence)\n",
    "\n",
    "        # Convert the prediction to a binary label\n",
    "        label = 'mental health issue indicated' if prediction > 0.5 else 'mental health issue not indicated'\n",
    "\n",
    "        print(f\"Input Text: \\'{input_text}\\'\")\n",
    "        print(f\"Predicted : {label}, Confidence: {prediction[0, 0]}\")\n",
    "        print(\"------------------------\")\n",
    "\n",
    "# Assuming 'model', 'tokenizer', and 'max_len' are already defined from the previous code\n",
    "\n",
    "# Example usage:\n",
    "predict_label_input(model, tokenizer, max_len)\n"
   ]
  }
 ],
 "metadata": {
  "kernelspec": {
   "display_name": "Python 3",
   "language": "python",
   "name": "python3"
  },
  "language_info": {
   "codemirror_mode": {
    "name": "ipython",
    "version": 3
   },
   "file_extension": ".py",
   "mimetype": "text/x-python",
   "name": "python",
   "nbconvert_exporter": "python",
   "pygments_lexer": "ipython3",
   "version": "3.11.6"
  }
 },
 "nbformat": 4,
 "nbformat_minor": 2
}
